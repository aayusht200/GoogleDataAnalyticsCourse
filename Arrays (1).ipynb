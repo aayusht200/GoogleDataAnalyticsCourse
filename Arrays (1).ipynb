{
 "cells": [
  {
   "cell_type": "code",
   "execution_count": 185,
   "id": "fff20faf",
   "metadata": {},
   "outputs": [],
   "source": [
    "import numpy as np\n",
    "import random as rn\n",
    "from collections import Counter"
   ]
  },
  {
   "cell_type": "code",
   "execution_count": 5,
   "id": "5b8286c5",
   "metadata": {},
   "outputs": [],
   "source": [
    "arr_one=np.array([1,2,3,4])\n",
    "arr_two=np.array([5,6,7,8])"
   ]
  },
  {
   "cell_type": "code",
   "execution_count": 6,
   "id": "a595b1b5",
   "metadata": {},
   "outputs": [
    {
     "name": "stdout",
     "output_type": "stream",
     "text": [
      "1 2 3 4 "
     ]
    },
    {
     "data": {
      "text/plain": [
       "3"
      ]
     },
     "execution_count": 6,
     "metadata": {},
     "output_type": "execute_result"
    }
   ],
   "source": [
    "for i in range(len(arr_one)):\n",
    "    print(arr_one[i],end=' ')\n",
    "arr_one[2]"
   ]
  },
  {
   "cell_type": "code",
   "execution_count": 7,
   "id": "f8e8e735",
   "metadata": {},
   "outputs": [
    {
     "data": {
      "text/plain": [
       "array([ 6,  8, 10, 12])"
      ]
     },
     "execution_count": 7,
     "metadata": {},
     "output_type": "execute_result"
    }
   ],
   "source": [
    "arr_three=np.empty((0,),dtype=int)\n",
    "for i in range(len(arr_one)):\n",
    "    arr_three=np.append(arr_three,int(arr_one[i]+arr_two[i]))\n",
    "arr_three"
   ]
  },
  {
   "cell_type": "code",
   "execution_count": 8,
   "id": "9f53842b",
   "metadata": {},
   "outputs": [
    {
     "name": "stdout",
     "output_type": "stream",
     "text": [
      "4\n"
     ]
    }
   ],
   "source": [
    "print(len(arr_three))"
   ]
  },
  {
   "cell_type": "code",
   "execution_count": 9,
   "id": "19a9b69c",
   "metadata": {},
   "outputs": [
    {
     "data": {
      "text/plain": [
       "array([ 6,  5,  5,  7,  5,  7,  6,  4,  4,  4,  4,  8, 10,  4,  3,  7, 10,\n",
       "        2,  4,  9])"
      ]
     },
     "execution_count": 9,
     "metadata": {},
     "output_type": "execute_result"
    }
   ],
   "source": [
    "arr_four=np.empty((0,),dtype=int)\n",
    "for i in range(20):\n",
    "    arr_four=np.append(arr_four,rn.randint(1,10))\n",
    "arr_four"
   ]
  },
  {
   "cell_type": "code",
   "execution_count": 10,
   "id": "b88f9452",
   "metadata": {},
   "outputs": [
    {
     "data": {
      "text/plain": [
       "10"
      ]
     },
     "execution_count": 10,
     "metadata": {},
     "output_type": "execute_result"
    }
   ],
   "source": [
    "def max_array(temp):\n",
    "    return temp.max()\n",
    "max_array(arr_four)"
   ]
  },
  {
   "cell_type": "code",
   "execution_count": 11,
   "id": "a05304e5",
   "metadata": {},
   "outputs": [
    {
     "name": "stdout",
     "output_type": "stream",
     "text": [
      "[ 9  4  2 10  7  3  4 10  8  4  4  4  4  6  7  5  7  5  5  6]\n",
      "[ 9  4  2 10  7  3  4 10  8  4  4  4  4  6  7  5  7  5  5  6]\n"
     ]
    }
   ],
   "source": [
    "def rever_arr(temp):\n",
    "    len_arr=len(temp)\n",
    "    reverse_arr=np.empty((0,),dtype=int)\n",
    "    for i in range(len_arr):\n",
    "        len_arr=len_arr-1\n",
    "        reverse_arr=np.append(reverse_arr,temp[len_arr])\n",
    "    return reverse_arr\n",
    "print(rever_arr(arr_four))\n",
    "print(arr_four[::-1])"
   ]
  },
  {
   "cell_type": "code",
   "execution_count": 12,
   "id": "4aaaf86e",
   "metadata": {},
   "outputs": [
    {
     "name": "stdout",
     "output_type": "stream",
     "text": [
      "[ 2  6  5  7  4  8 10  3  9]\n",
      "[ 2  3  4  5  6  7  8  9 10]\n"
     ]
    }
   ],
   "source": [
    "def remove_duplicates(temp):\n",
    "    len_arr=len(temp)\n",
    "    rmv_dup=np.empty([],dtype=int)\n",
    "    for i in range(len_arr):\n",
    "        if(temp[i] not in rmv_dup):\n",
    "            rmv_dup=np.append(rmv_dup,temp[i])\n",
    "    return rmv_dup\n",
    "print(remove_duplicates(arr_four))\n",
    "rmv_dup=np.unique(arr_four)\n",
    "print(rmv_dup)"
   ]
  },
  {
   "cell_type": "code",
   "execution_count": 13,
   "id": "e4b04d93",
   "metadata": {},
   "outputs": [
    {
     "name": "stdout",
     "output_type": "stream",
     "text": [
      "False\n"
     ]
    }
   ],
   "source": [
    "print(11 in arr_four)"
   ]
  },
  {
   "cell_type": "code",
   "execution_count": 14,
   "id": "a9ce2b04",
   "metadata": {},
   "outputs": [
    {
     "data": {
      "text/plain": [
       "array([10, 15, 20, 25, 30, 35, 40, 45, 50])"
      ]
     },
     "execution_count": 14,
     "metadata": {},
     "output_type": "execute_result"
    }
   ],
   "source": [
    "arr_five=rmv_dup\n",
    "arr_five\n",
    "def multiply_arr(num,arr):\n",
    "    multiply_arr=np.empty((0,),dtype=int)\n",
    "    for i in range(len(arr)):\n",
    "        multiply_arr=np.append(multiply_arr,num*arr[i])\n",
    "    return multiply_arr\n",
    "multiply_arr(5,arr_five)"
   ]
  },
  {
   "cell_type": "code",
   "execution_count": 15,
   "id": "2fb62e36",
   "metadata": {},
   "outputs": [
    {
     "name": "stdout",
     "output_type": "stream",
     "text": [
      "270\n"
     ]
    }
   ],
   "source": [
    "print(multiply_arr(5,arr_five).sum())"
   ]
  },
  {
   "cell_type": "code",
   "execution_count": 16,
   "id": "8cef61d4",
   "metadata": {},
   "outputs": [
    {
     "name": "stdout",
     "output_type": "stream",
     "text": [
      "30.0\n",
      "30.0\n"
     ]
    }
   ],
   "source": [
    "def avg(arr):\n",
    "    len_arr=len(arr)\n",
    "    temp=0\n",
    "    for i in range(len_arr):\n",
    "        temp=temp+arr[i]\n",
    "    return temp/len_arr\n",
    "print(round(avg(multiply_arr(5,arr_five)),2))\n",
    "print(round(multiply_arr(5,arr_five).mean(),2))"
   ]
  },
  {
   "cell_type": "code",
   "execution_count": 17,
   "id": "425d1ae9",
   "metadata": {},
   "outputs": [
    {
     "name": "stdout",
     "output_type": "stream",
     "text": [
      "12\n",
      "12\n"
     ]
    }
   ],
   "source": [
    "def search_index(num,temp):\n",
    "    for i in range(len(temp)):\n",
    "        if num ==temp[i]:\n",
    "            return i\n",
    "    return \"Not in array\"\n",
    "print(search_index(arr_four.max(),arr_four))\n",
    "print(np.argmax(arr_four))"
   ]
  },
  {
   "cell_type": "code",
   "execution_count": 18,
   "id": "0306ce5d",
   "metadata": {},
   "outputs": [],
   "source": [
    "arr_six=remove_duplicates(arr_four)\n",
    "arr_six.sort()\n",
    "arr_six=arr_six[::-1]"
   ]
  },
  {
   "cell_type": "code",
   "execution_count": 19,
   "id": "57c61eb3",
   "metadata": {},
   "outputs": [
    {
     "name": "stdout",
     "output_type": "stream",
     "text": [
      "[12 10  9  8  7  6  5  4  3  2  2  3  4  5  6  7  8  9 10]\n"
     ]
    }
   ],
   "source": [
    "concat_array=np.append(arr_six,arr_five)\n",
    "print(concat_array)"
   ]
  },
  {
   "cell_type": "code",
   "execution_count": 89,
   "id": "7d355e85",
   "metadata": {},
   "outputs": [],
   "source": [
    "def random_array(start,end,length):\n",
    "    temp=np.empty((0,),dtype=int)\n",
    "    for i in range(0,length):\n",
    "        temp=np.append(temp,rn.randint(start,end))\n",
    "    return temp   "
   ]
  },
  {
   "cell_type": "code",
   "execution_count": 113,
   "id": "a5f90cac",
   "metadata": {},
   "outputs": [
    {
     "name": "stdout",
     "output_type": "stream",
     "text": [
      "[100 127 160 186 209 232]\n",
      "173.0\n"
     ]
    }
   ],
   "source": [
    "median_arr=random_array(100,300,6)\n",
    "def median_of_array(temp):\n",
    "    temp.sort()\n",
    "    print(temp)\n",
    "    lenght=len(temp)\n",
    "    if lenght%2==0:\n",
    "        return (temp[(lenght//2)]+temp[((lenght-1)//2)])/2\n",
    "    else:\n",
    "        return temp[int(lenght/2)]\n",
    "print(median_of_array(median_arr))\n"
   ]
  },
  {
   "cell_type": "code",
   "execution_count": 239,
   "id": "cf74922b",
   "metadata": {},
   "outputs": [],
   "source": [
    "def mode_of_array(temp):\n",
    "    count=Counter(temp)\n",
    "    return count.most_common(1)"
   ]
  },
  {
   "cell_type": "code",
   "execution_count": 241,
   "id": "98e6ecea",
   "metadata": {},
   "outputs": [
    {
     "name": "stdout",
     "output_type": "stream",
     "text": [
      "[(5, 5)]\n",
      "[9 1 5 3 9 3 6 6 5 5 5 1 3 1 9 9 8 8 3 5]\n"
     ]
    }
   ],
   "source": [
    "mode_arr=random_array(1,10,20)\n",
    "print(mode_of_array(mode_arr))\n",
    "print(mode_arr)"
   ]
  },
  {
   "cell_type": "code",
   "execution_count": 213,
   "id": "c2636eb4",
   "metadata": {},
   "outputs": [
    {
     "name": "stdout",
     "output_type": "stream",
     "text": [
      "[ 6  8  8 10  6  9  9  6  8  2]\n"
     ]
    },
    {
     "data": {
      "text/plain": [
       "False"
      ]
     },
     "execution_count": 213,
     "metadata": {},
     "output_type": "execute_result"
    }
   ],
   "source": [
    "dup_arr=random_array(1,10,10)\n",
    "print(dup_arr)\n",
    "def no_dupliactes(temp):\n",
    "    count=Counter(temp)\n",
    "    if count.most_common(1)[0][1]>0:\n",
    "        return False\n",
    "    return True\n",
    "no_dupliactes(dup_arr)"
   ]
  },
  {
   "cell_type": "code",
   "execution_count": 230,
   "id": "3987c0af",
   "metadata": {},
   "outputs": [
    {
     "name": "stdout",
     "output_type": "stream",
     "text": [
      "[ 2  2  6  2  5  9 10  2  6 10]\n",
      "2\n"
     ]
    }
   ],
   "source": [
    "kth_smallest_arr=random_array(1,10,10)\n",
    "print(kth_smallest_arr)\n",
    "def kth_smallest(temp,pos):\n",
    "    temp.sort()\n",
    "    if pos<=0:\n",
    "        return temp[0]\n",
    "    return int(temp[pos-1])\n",
    "print(kth_smallest(kth_smallest_arr,4))"
   ]
  },
  {
   "cell_type": "code",
   "execution_count": 289,
   "id": "f2583743",
   "metadata": {},
   "outputs": [
    {
     "name": "stdout",
     "output_type": "stream",
     "text": [
      "[21 89 11 66 80 88 41 39  6 54]\n",
      "[59 59 33 28 81 22 50 25 15 25]\n"
     ]
    },
    {
     "data": {
      "text/plain": [
       "'No Intersection'"
      ]
     },
     "execution_count": 289,
     "metadata": {},
     "output_type": "execute_result"
    }
   ],
   "source": [
    "arr_one=random_array(1,100,10)\n",
    "print(arr_one)\n",
    "arr_two=random_array(1,100,10)\n",
    "print(arr_two)\n",
    "\n",
    "def intersection_of_two_array(arrayone,arraytwo):\n",
    "    test_arr=[]\n",
    "    for i in arrayone:\n",
    "        if i in arraytwo:\n",
    "            test_arr.append(i)\n",
    "    if test_arr:\n",
    "        return test_arr\n",
    "    return \"No Intersection\"\n",
    "intersection_of_two_array(arr_one,arr_two)"
   ]
  },
  {
   "cell_type": "code",
   "execution_count": 365,
   "id": "9d6b65df",
   "metadata": {},
   "outputs": [
    {
     "data": {
      "text/plain": [
       "array([12, 21, 29, 44, 45, 61, 67, 82, 91, 98])"
      ]
     },
     "execution_count": 365,
     "metadata": {},
     "output_type": "execute_result"
    }
   ],
   "source": [
    "def merge_array(arrone,arrtwo):\n",
    "    arrone=arrone+arrtwo\n",
    "    arrone.sort()\n",
    "    return arrone\n",
    "merge_array(arr_one,arr_two)"
   ]
  },
  {
   "cell_type": "code",
   "execution_count": 364,
   "id": "60ab2138",
   "metadata": {},
   "outputs": [
    {
     "name": "stdout",
     "output_type": "stream",
     "text": [
      "[89 11 66 80 88 41 39  6 54 21]\n",
      "[66 80 88 41 39  6 54 21 89 11]\n",
      "[66 80 88 41 39  6 54 21 89 11]\n",
      "[88 41 39  6 54 21 89 11 66 80]\n"
     ]
    }
   ],
   "source": [
    "print(arr_one)\n",
    "def rotate_array(rotateArray,step):\n",
    "    temp=0\n",
    "    for i in range(step):\n",
    "        for j in range(len(rotateArray)-1):\n",
    "            temp=rotateArray[j]\n",
    "            rotateArray[j]=rotateArray[j+1]\n",
    "            rotateArray[j+1]=temp\n",
    "    return rotateArray\n",
    "print(rotate_array(arr_one,2))\n",
    "\n",
    "print(arr_one)\n",
    "def rotate_slicing(arr,pos):\n",
    "    temp=arr[pos:]\n",
    "    temp_two=arr[:pos]\n",
    "    temp=np.append(temp,temp_two)\n",
    "    return temp\n",
    "\n",
    "print(rotate_slicing(arr_one,2))"
   ]
  }
 ],
 "metadata": {
  "kernelspec": {
   "display_name": "Python 3 (ipykernel)",
   "language": "python",
   "name": "python3"
  },
  "language_info": {
   "codemirror_mode": {
    "name": "ipython",
    "version": 3
   },
   "file_extension": ".py",
   "mimetype": "text/x-python",
   "name": "python",
   "nbconvert_exporter": "python",
   "pygments_lexer": "ipython3",
   "version": "3.11.5"
  }
 },
 "nbformat": 4,
 "nbformat_minor": 5
}
