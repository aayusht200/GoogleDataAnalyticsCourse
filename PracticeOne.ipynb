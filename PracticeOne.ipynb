{
 "cells": [
  {
   "cell_type": "code",
   "execution_count": 1,
   "id": "7694b1c7",
   "metadata": {},
   "outputs": [
    {
     "data": {
      "text/plain": [
       "[1, 4, 9, 16, 25, 64, 81]"
      ]
     },
     "execution_count": 1,
     "metadata": {},
     "output_type": "execute_result"
    }
   ],
   "source": [
    "square_list_input=[1,2,3,4,5,8,9]\n",
    "square_list_input\n",
    "square_list_output=[num*num for num in square_list_input]\n",
    "square_list_output"
   ]
  },
  {
   "cell_type": "code",
   "execution_count": 2,
   "id": "11b67ec9",
   "metadata": {},
   "outputs": [
    {
     "data": {
      "text/plain": [
       "[5, 6, 6, 4]"
      ]
     },
     "execution_count": 2,
     "metadata": {},
     "output_type": "execute_result"
    }
   ],
   "source": [
    "fruit_input=[\"apple\",\"banana\",\"orange\",\"kiwi\"]\n",
    "fruit_input\n",
    "fruit_output=[len(fruit) for fruit in fruit_input]\n",
    "fruit_output"
   ]
  },
  {
   "cell_type": "code",
   "execution_count": 3,
   "id": "4f9d955c",
   "metadata": {},
   "outputs": [
    {
     "data": {
      "text/plain": [
       "['apple', 'grape']"
      ]
     },
     "execution_count": 3,
     "metadata": {},
     "output_type": "execute_result"
    }
   ],
   "source": [
    "five_letter_input=[\"apple\", \"banana\", \"orange\", \"kiwi\", \"grape\"]\n",
    "five_letter_input\n",
    "five_letter_output=[fruit for fruit in five_letter_input if len(fruit)==5]\n",
    "five_letter_output"
   ]
  },
  {
   "cell_type": "code",
   "execution_count": 4,
   "id": "fd29ca79",
   "metadata": {},
   "outputs": [
    {
     "data": {
      "text/plain": [
       "['radar', 'level', 'noon', 'racecar']"
      ]
     },
     "execution_count": 4,
     "metadata": {},
     "output_type": "execute_result"
    }
   ],
   "source": [
    "palindrome_input=[\"radar\", \"level\", \"python\", \"noon\", \"racecar\"]\n",
    "palindrome_input\n",
    "palindrome_output=[word for word in palindrome_input if word==word[::-1]]\n",
    "palindrome_output"
   ]
  },
  {
   "cell_type": "code",
   "execution_count": 5,
   "id": "fa83c8b1",
   "metadata": {},
   "outputs": [
    {
     "data": {
      "text/plain": [
       "['apple', 'Orange']"
      ]
     },
     "execution_count": 5,
     "metadata": {},
     "output_type": "execute_result"
    }
   ],
   "source": [
    "vowel_input=[\"apple\", \"Banana\", \"Orange\", \"kiwi\", \"grape\"]\n",
    "vowels=['a','e','i','o','u']\n",
    "vowel_output=[vowel for vowel in vowel_input if vowel[0].lower() in vowels]\n",
    "vowel_output"
   ]
  },
  {
   "cell_type": "code",
   "execution_count": 6,
   "id": "89529029",
   "metadata": {},
   "outputs": [
    {
     "name": "stdout",
     "output_type": "stream",
     "text": [
      "[2, 4, 6, 8, 10]\n"
     ]
    }
   ],
   "source": [
    "def get_primes(input_list):\n",
    "    return(num for num in input_list if num%2==0)\n",
    "print(list(get_primes([1, 2, 3, 4, 5, 6, 7, 8, 9, 10])))"
   ]
  },
  {
   "cell_type": "code",
   "execution_count": 7,
   "id": "f85a227b",
   "metadata": {},
   "outputs": [
    {
     "name": "stdout",
     "output_type": "stream",
     "text": [
      "[3, 4, 5]\n"
     ]
    }
   ],
   "source": [
    "def find_common_elements(list_one,list_two):\n",
    "    return(num for num in list_one if num in list_two)\n",
    "\n",
    "print(list(find_common_elements([3, 4, 5, 6, 7],[1, 2, 3, 4, 5])))"
   ]
  },
  {
   "cell_type": "code",
   "execution_count": 8,
   "id": "d0607257",
   "metadata": {},
   "outputs": [
    {
     "name": "stdout",
     "output_type": "stream",
     "text": [
      "['world', 'python']\n"
     ]
    }
   ],
   "source": [
    "def unique_string(test):\n",
    "    return(sample for sample in test if len(set(sample))==len(sample))\n",
    "print(list(unique_string([\"hello\", \"world\", \"python\", \"unique\", \"strings\"])))"
   ]
  },
  {
   "cell_type": "code",
   "execution_count": 23,
   "id": "1a889e7d",
   "metadata": {},
   "outputs": [
    {
     "name": "stdout",
     "output_type": "stream",
     "text": [
      "['noon']\n"
     ]
    }
   ],
   "source": [
    "def is_palindrome(string):\n",
    "    if(string==string[::-1]):\n",
    "        return(string)\n",
    "    return ()    \n",
    "def even_length_palindromes(string):\n",
    "    return(sample for sample in string if is_palindrome(sample) and len(sample)%2==0) \n",
    "\n",
    "print(list(even_length_palindromes([\"radar\", \"level\", \"python\", \"noon\", \"racecar\"])))"
   ]
  },
  {
   "cell_type": "code",
   "execution_count": 1,
   "id": "d7d46a60",
   "metadata": {},
   "outputs": [
    {
     "name": "stdout",
     "output_type": "stream",
     "text": [
      "[13, 14, 15, 16, 17, 18, 19]\n"
     ]
    }
   ],
   "source": [
    "temp=list(set([6, 7, 8, 9, 10]))\n",
    "test=[]\n",
    "for i in range(len(temp)):\n",
    "    #print(i)\n",
    "    for j in range(i+1,len(temp)):\n",
    "        test.append(temp[i]+temp[j])\n",
    "test=list(set(test))\n",
    "print(test)"
   ]
  },
  {
   "cell_type": "code",
   "execution_count": 17,
   "id": "eab08efe",
   "metadata": {},
   "outputs": [
    {
     "name": "stdout",
     "output_type": "stream",
     "text": [
      "9\n"
     ]
    }
   ],
   "source": [
    "def postive_number(number):\n",
    "    if(number>0):\n",
    "        return (number)\n",
    "def sum_of_postive_int(list_number):\n",
    "    number=0\n",
    "    for i in list_number:\n",
    "        if(postive_number(i)):\n",
    "            number=number+i\n",
    "    return(number)\n",
    "number=[1, -2, 3, -4, 5]\n",
    "print(sum_of_postive_int(number))"
   ]
  },
  {
   "cell_type": "code",
   "execution_count": 29,
   "id": "197ad8ab",
   "metadata": {},
   "outputs": [
    {
     "name": "stdout",
     "output_type": "stream",
     "text": [
      "[1, 9, 25]\n"
     ]
    }
   ],
   "source": [
    "def square_positive_numbers_test(numbers_list):\n",
    "    return(numbers*numbers for numbers in numbers_list if numbers>0)\n",
    "a=[1, -2, 3, -4, 5]\n",
    "print(list(square_positive_numbers_test(a)))"
   ]
  },
  {
   "cell_type": "code",
   "execution_count": 1,
   "id": "39399b58",
   "metadata": {},
   "outputs": [
    {
     "name": "stdout",
     "output_type": "stream",
     "text": [
      "['banana', 'orange']\n"
     ]
    }
   ],
   "source": [
    "def long_strings(sample_string):\n",
    "    return(sample for sample in sample_string if len(sample)>5)\n",
    "sample_string=[\"apple\", \"banana\", \"orange\", \"kiwi\", \"grape\"]\n",
    "output_string=list(long_strings(sample_string))\n",
    "print(output_string)"
   ]
  },
  {
   "cell_type": "code",
   "execution_count": 21,
   "id": "f92f19b9",
   "metadata": {},
   "outputs": [
    {
     "name": "stdout",
     "output_type": "stream",
     "text": [
      "1\t2\t3\t\n",
      "2\t4\t6\t\n",
      "3\t6\t9\t\n"
     ]
    }
   ],
   "source": [
    "def multiplication_table(number):\n",
    "    for i in range(1,number):\n",
    "        for j in range (1,number):\n",
    "            print(i*j,end='\\t')\n",
    "        print()\n",
    "multiplication_table(4)"
   ]
  },
  {
   "cell_type": "code",
   "execution_count": 34,
   "id": "ad2752db",
   "metadata": {},
   "outputs": [
    {
     "name": "stdout",
     "output_type": "stream",
     "text": [
      "\n",
      "*\t\n",
      "*\t*\t\n",
      "*\t*\t*\t\n",
      "*\t*\t*\t*\t\n",
      "*\t*\t*\t*\t*\t\n",
      "*\t*\t*\t*\t*\t*\t\n",
      "*\t*\t*\t*\t*\t*\t*\t\n",
      "*\t*\t*\t*\t*\t*\t*\t*\t\n",
      "*\t*\t*\t*\t*\t*\t*\t*\t*\t\n"
     ]
    }
   ],
   "source": [
    "def star_pattern(length):\n",
    "    for i in range(length):\n",
    "        for j in range(i):\n",
    "            print(\"*\",end=\"\\t\")\n",
    "        print()    \n",
    "star_pattern(10)"
   ]
  },
  {
   "cell_type": "code",
   "execution_count": 40,
   "id": "8723f49a",
   "metadata": {},
   "outputs": [
    {
     "name": "stdout",
     "output_type": "stream",
     "text": [
      "2\t4\t6\t8\t10\t12\t14\t16\t18\t20\t22\t24\t26\t28\t30\t32\t34\t36\t38\t40\t42\t44\t46\t48\t50\t52\t54\t56\t58\t60\t62\t64\t66\t68\t70\t72\t74\t76\t78\t80\t82\t84\t86\t88\t90\t92\t94\t96\t98\t"
     ]
    }
   ],
   "source": [
    "def even_number(number):\n",
    "    for i in range(1,number):\n",
    "        if(i%2==0):\n",
    "            print(i,end=\"\\t\")\n",
    "even_number(100)"
   ]
  },
  {
   "cell_type": "code",
   "execution_count": 145,
   "id": "7e0f8804",
   "metadata": {},
   "outputs": [
    {
     "name": "stdout",
     "output_type": "stream",
     "text": [
      "2\t3\t5\t7\t11\t13\t17\t19\t23\t29\t31\t37\t41\t43\t47\t53\t59\t61\t67\t71\t73\t79\t83\t89\t97\t"
     ]
    }
   ],
   "source": [
    "def is_prime(number):\n",
    "    for i in range(2,number):\n",
    "        if number % i == 0:\n",
    "            return False\n",
    "    return True\n",
    "\n",
    "def prime_numbers(number):\n",
    "    for i in range(2,number):\n",
    "        if(is_prime(i)==True):\n",
    "            print(i,end=\"\\t\")\n",
    "            \n",
    "prime_numbers(100)"
   ]
  },
  {
   "cell_type": "code",
   "execution_count": 173,
   "id": "8a57c84c",
   "metadata": {},
   "outputs": [
    {
     "name": "stdout",
     "output_type": "stream",
     "text": [
      "[9, 16, 21, 24, 25, 24, 21, 16, 9]\n"
     ]
    }
   ],
   "source": [
    "A=[[1,2,3],[4,5,6],[7,8,9]]\n",
    "B=[[9,8,7],[6,5,4],[3,2,1]]\n",
    "C=[]\n",
    "\n",
    "for i in range (len(A)):\n",
    "    for j in range(len(A)):\n",
    "        C.append(A[i][j]*B[i][j])\n",
    "        \n",
    "print(C)"
   ]
  },
  {
   "cell_type": "code",
   "execution_count": 192,
   "id": "097acea8",
   "metadata": {},
   "outputs": [
    {
     "name": "stdout",
     "output_type": "stream",
     "text": [
      "23\n"
     ]
    }
   ],
   "source": [
    "def sum_int(number):\n",
    "    temp=str(number)\n",
    "    A=[]\n",
    "    for i in range(len(temp)):\n",
    "        A.append(int(temp[i]))\n",
    "    print(sum(A))\n",
    "sum_int(2341274)"
   ]
  },
  {
   "cell_type": "code",
   "execution_count": 209,
   "id": "d145b53d",
   "metadata": {},
   "outputs": [
    {
     "data": {
      "text/plain": [
       "40320"
      ]
     },
     "execution_count": 209,
     "metadata": {},
     "output_type": "execute_result"
    }
   ],
   "source": [
    "def fact(number):\n",
    "    temp=1\n",
    "    if number==0:\n",
    "        return temp\n",
    "    else:\n",
    "        for i in range(1,number):\n",
    "            temp=temp+temp*i\n",
    "        return temp\n",
    "fact(8)"
   ]
  },
  {
   "cell_type": "code",
   "execution_count": 261,
   "id": "605546e6",
   "metadata": {},
   "outputs": [
    {
     "name": "stdout",
     "output_type": "stream",
     "text": [
      "3\n",
      "\u0000\n",
      "\u0001\n",
      "\u0002\n"
     ]
    }
   ],
   "source": [
    "def pyramid(letter):\n",
    "    temp=ord(letter.upper())-64\n",
    "    print(temp)\n",
    "    for i in range(temp):\n",
    "        print(chr(i))\n",
    "pyramid(\"C\")\n"
   ]
  },
  {
   "cell_type": "code",
   "execution_count": 295,
   "id": "43ee1d4b",
   "metadata": {},
   "outputs": [
    {
     "name": "stdout",
     "output_type": "stream",
     "text": [
      "*\n",
      "***\n",
      "*****\n",
      "*******\n",
      "*********\n"
     ]
    }
   ],
   "source": [
    "for i in range(1,6):\n",
    "    for _ in range(2*i-1):\n",
    "        print(\"*\",end=\"\")\n",
    "    print()"
   ]
  },
  {
   "cell_type": "code",
   "execution_count": 328,
   "id": "9955a148",
   "metadata": {},
   "outputs": [
    {
     "name": "stdout",
     "output_type": "stream",
     "text": [
      "*\t\n",
      "*\t*\t\n",
      "*\t*\t*\t\n",
      "*\t*\t*\t*\t\n",
      "*\t*\t*\t*\t*\t\n"
     ]
    }
   ],
   "source": [
    "for i in range(1,6):\n",
    "    for j in range(1):\n",
    "        print(\"\",end=\"\")\n",
    "    for _ in range(i):\n",
    "        print(\"*\",end=\"\\t\")\n",
    "    print()"
   ]
  },
  {
   "cell_type": "code",
   "execution_count": 338,
   "id": "02d921f5",
   "metadata": {},
   "outputs": [
    {
     "name": "stdout",
     "output_type": "stream",
     "text": [
      "385\n"
     ]
    }
   ],
   "source": [
    "temp=0\n",
    "for i in range(1,11):\n",
    "    temp=temp+(i*i)\n",
    "print(temp)"
   ]
  },
  {
   "cell_type": "code",
   "execution_count": 343,
   "id": "dbd58737",
   "metadata": {},
   "outputs": [
    {
     "name": "stdout",
     "output_type": "stream",
     "text": [
      "1\n",
      "3\n",
      "5\n",
      "7\n",
      "9\n",
      "11\n",
      "13\n",
      "15\n"
     ]
    }
   ],
   "source": [
    "def odd_numbers(number):\n",
    "    for i in range(number+1):\n",
    "        if i%2!=0:\n",
    "            print(i)\n",
    "odd_numbers(15)"
   ]
  },
  {
   "cell_type": "code",
   "execution_count": 349,
   "id": "14bcdba1",
   "metadata": {},
   "outputs": [
    {
     "name": "stdout",
     "output_type": "stream",
     "text": [
      "10\n",
      "9\n",
      "8\n",
      "7\n",
      "6\n",
      "5\n",
      "4\n",
      "3\n",
      "2\n",
      "1\n"
     ]
    }
   ],
   "source": [
    "def countdown(num):\n",
    "    for i in range(num):\n",
    "        print(num)\n",
    "        num-=1\n",
    "countdown(10)"
   ]
  },
  {
   "cell_type": "code",
   "execution_count": 361,
   "id": "f310ffea",
   "metadata": {},
   "outputs": [
    {
     "name": "stdout",
     "output_type": "stream",
     "text": [
      "2\n",
      "4\n",
      "8\n",
      "16\n"
     ]
    }
   ],
   "source": [
    "def power_of_five(num):\n",
    "    for i in range(1,num):\n",
    "        print(2**i)\n",
    "power_of_five(5)"
   ]
  },
  {
   "cell_type": "code",
   "execution_count": 377,
   "id": "b58554eb",
   "metadata": {},
   "outputs": [
    {
     "name": "stdout",
     "output_type": "stream",
     "text": [
      "olleH\n",
      "olleh\n"
     ]
    }
   ],
   "source": [
    "def reverse_str(string):\n",
    "    str_len=len(string)\n",
    "    temp=\"\"\n",
    "    for i in range(str_len):\n",
    "        str_len=str_len-1\n",
    "        temp=temp+string[str_len]\n",
    "    return temp\n",
    "print(str(reverse_str(\"Hello\")))\n",
    "string='hello'\n",
    "print(string[::-1])"
   ]
  },
  {
   "cell_type": "code",
   "execution_count": 386,
   "id": "0c703420",
   "metadata": {},
   "outputs": [
    {
     "name": "stdout",
     "output_type": "stream",
     "text": [
      "110\n"
     ]
    }
   ],
   "source": [
    "def sum_even(num):\n",
    "    temp=0\n",
    "    for i in range(num+1):\n",
    "        if(i%2==0):\n",
    "            temp=temp+i\n",
    "    return temp\n",
    "print(sum_even(20))"
   ]
  },
  {
   "cell_type": "code",
   "execution_count": 415,
   "id": "b29fdc44",
   "metadata": {},
   "outputs": [
    {
     "name": "stdout",
     "output_type": "stream",
     "text": [
      "1 True\n",
      "2 True\n",
      "3 True\n",
      "4 False\n",
      "5 True\n",
      "6 False\n",
      "7 True\n",
      "8 False\n",
      "9 False\n"
     ]
    },
    {
     "data": {
      "text/plain": [
       "True"
      ]
     },
     "execution_count": 415,
     "metadata": {},
     "output_type": "execute_result"
    }
   ],
   "source": [
    "def is_prime(num):\n",
    "    for i in range(2,num):\n",
    "        if num%i ==0:\n",
    "            return False\n",
    "    return True\n",
    "def prime_number(num):\n",
    "    for i in range(1,num):\n",
    "        print(i,is_prime(i))\n",
    "prime_number(10)\n",
    "is_prime(541)"
   ]
  },
  {
   "cell_type": "code",
   "execution_count": 430,
   "id": "bfc1b291",
   "metadata": {},
   "outputs": [
    {
     "name": "stdout",
     "output_type": "stream",
     "text": [
      "1\t2\t3\t4\t5\t6\t7\t8\t9\t10\t\n",
      "2\t4\t6\t8\t10\t12\t14\t16\t18\t20\t\n",
      "3\t6\t9\t12\t15\t18\t21\t24\t27\t30\t\n",
      "4\t8\t12\t16\t20\t24\t28\t32\t36\t40\t\n",
      "5\t10\t15\t20\t25\t30\t35\t40\t45\t50\t\n",
      "6\t12\t18\t24\t30\t36\t42\t48\t54\t60\t\n",
      "7\t14\t21\t28\t35\t42\t49\t56\t63\t70\t\n",
      "8\t16\t24\t32\t40\t48\t56\t64\t72\t80\t\n",
      "9\t18\t27\t36\t45\t54\t63\t72\t81\t90\t\n",
      "10\t20\t30\t40\t50\t60\t70\t80\t90\t100\t\n"
     ]
    }
   ],
   "source": [
    "def multiplication_table(num):\n",
    "    for i in range(1,num+1):\n",
    "        for j in range(1,num+1):\n",
    "            print(j*i,end='\\t')\n",
    "        print()\n",
    "multiplication_table(10)"
   ]
  },
  {
   "cell_type": "code",
   "execution_count": 437,
   "id": "e792642f",
   "metadata": {},
   "outputs": [
    {
     "data": {
      "text/plain": [
       "21"
      ]
     },
     "execution_count": 437,
     "metadata": {},
     "output_type": "execute_result"
    }
   ],
   "source": [
    "def sum_digits(num):\n",
    "    temp=str(num)\n",
    "    length=len(temp)\n",
    "    sum_digit=0\n",
    "    for i in range(length):\n",
    "        sum_digit=sum_digit+int(temp[i])\n",
    "    return sum_digit\n",
    "sum_digits(191901)"
   ]
  },
  {
   "cell_type": "code",
   "execution_count": 585,
   "id": "d341b5cf",
   "metadata": {},
   "outputs": [
    {
     "name": "stdout",
     "output_type": "stream",
     "text": [
      "     \n",
      "    * \n",
      "   * * \n",
      "  * * * \n",
      " * * * * \n",
      "      \n",
      "     A \n",
      "    B B \n",
      "   C C C \n",
      "  D D D D \n",
      " E E E E E \n",
      "          \n",
      "         A \n",
      "        A B \n",
      "       A B C \n",
      "      A B C D \n",
      "     A B C D E \n",
      "    A B C D E F \n",
      "   A B C D E F G \n",
      "  A B C D E F G H \n",
      " A B C D E F G H I \n"
     ]
    }
   ],
   "source": [
    "def star_pattern(num):\n",
    "    for i in range(num):\n",
    "        for j in range(i,num):\n",
    "            print(\" \",end=\"\")\n",
    "        for k in range(i):\n",
    "            print(\"*\",end=' ')\n",
    "        print()\n",
    "star_pattern(5)\n",
    "\n",
    "def letter_pattern(letter):\n",
    "    letter=letter.upper()\n",
    "    temp=ord(letter)+2\n",
    "    initial=65\n",
    "    for i in range(initial,temp):\n",
    "        for j in range(i,temp):\n",
    "            print(\" \",end=\"\")\n",
    "        for k in range(initial,i):\n",
    "            print(chr(i-1),end=\" \")\n",
    "        print()\n",
    "letter_pattern('E')\n",
    "\n",
    "def letter_pattern_two(letter):\n",
    "    letter=letter.upper()\n",
    "    temp=ord(letter)+2\n",
    "    initial=65\n",
    "    for i in range(initial,temp):\n",
    "        for j in range(i,temp):\n",
    "            print(\" \",end=\"\")\n",
    "        for k in range(initial,i):\n",
    "            print(chr(k),end=\" \")\n",
    "        print()\n",
    "letter_pattern_two('i')"
   ]
  },
  {
   "cell_type": "code",
   "execution_count": 587,
   "id": "74421a8a",
   "metadata": {},
   "outputs": [
    {
     "name": "stdout",
     "output_type": "stream",
     "text": [
      "          \n",
      "         A \n",
      "        A A \n",
      "       A B A \n",
      "      A B B A \n",
      "     A B C B A \n",
      "    A B C C B A \n",
      "   A B C D C B A \n",
      "  A B C D D C B A \n",
      " A B C D E D C B A \n"
     ]
    }
   ],
   "source": [
    "def letter_pattern_two(letter):\n",
    "    letter=letter.upper()\n",
    "    temp=ord(letter)+2\n",
    "    initial=65\n",
    "    for i in range(initial,temp):\n",
    "        for j in range(i,temp):\n",
    "            print(\" \",end=\"\")\n",
    "        for k in range(initial,i):\n",
    "            if(k<((i+initial)/2)):\n",
    "                print(chr(k),end=' ')\n",
    "            else:\n",
    "                print(chr(i+initial-k-1),end=' ')\n",
    "        print()\n",
    "letter_pattern_two('i')"
   ]
  },
  {
   "cell_type": "markdown",
   "id": "258f3a72",
   "metadata": {},
   "source": [
    "    A\n",
    "   ABA\n",
    "  ABCBA\n",
    " ABCDCBA\n",
    "ABCDEDCBA"
   ]
  }
 ],
 "metadata": {
  "kernelspec": {
   "display_name": "Python 3 (ipykernel)",
   "language": "python",
   "name": "python3"
  },
  "language_info": {
   "codemirror_mode": {
    "name": "ipython",
    "version": 3
   },
   "file_extension": ".py",
   "mimetype": "text/x-python",
   "name": "python",
   "nbconvert_exporter": "python",
   "pygments_lexer": "ipython3",
   "version": "3.11.5"
  }
 },
 "nbformat": 4,
 "nbformat_minor": 5
}
