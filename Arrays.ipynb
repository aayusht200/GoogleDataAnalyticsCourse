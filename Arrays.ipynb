{
 "cells": [
  {
   "cell_type": "code",
   "execution_count": 67,
   "id": "fff20faf",
   "metadata": {},
   "outputs": [],
   "source": [
    "import numpy as np\n",
    "import random as rn"
   ]
  },
  {
   "cell_type": "code",
   "execution_count": 139,
   "id": "5b8286c5",
   "metadata": {},
   "outputs": [],
   "source": [
    "arr_one=np.array([1,2,3,4])\n",
    "arr_two=np.array([5,6,7,8])"
   ]
  },
  {
   "cell_type": "code",
   "execution_count": 140,
   "id": "a595b1b5",
   "metadata": {},
   "outputs": [
    {
     "name": "stdout",
     "output_type": "stream",
     "text": [
      "1 2 3 4 "
     ]
    },
    {
     "data": {
      "text/plain": [
       "3"
      ]
     },
     "execution_count": 140,
     "metadata": {},
     "output_type": "execute_result"
    }
   ],
   "source": [
    "for i in range(len(arr_one)):\n",
    "    print(arr_one[i],end=' ')\n",
    "arr_one[2]"
   ]
  },
  {
   "cell_type": "code",
   "execution_count": 63,
   "id": "f8e8e735",
   "metadata": {},
   "outputs": [
    {
     "data": {
      "text/plain": [
       "array([ 6,  8, 10, 12])"
      ]
     },
     "execution_count": 63,
     "metadata": {},
     "output_type": "execute_result"
    }
   ],
   "source": [
    "arr_three=np.empty((0,),dtype=int)\n",
    "for i in range(len(arr_one)):\n",
    "    arr_three=np.append(arr_three,int(arr_one[i]+arr_two[i]))\n",
    "arr_three"
   ]
  },
  {
   "cell_type": "code",
   "execution_count": 65,
   "id": "9f53842b",
   "metadata": {},
   "outputs": [
    {
     "name": "stdout",
     "output_type": "stream",
     "text": [
      "4\n"
     ]
    }
   ],
   "source": [
    "print(len(arr_three))"
   ]
  },
  {
   "cell_type": "code",
   "execution_count": 114,
   "id": "19a9b69c",
   "metadata": {},
   "outputs": [
    {
     "data": {
      "text/plain": [
       "array([ 5,  6,  4,  4,  6,  9,  2,  1, 10, 10,  6,  6,  2,  4,  9,  3, 10,\n",
       "        7,  4,  4])"
      ]
     },
     "execution_count": 114,
     "metadata": {},
     "output_type": "execute_result"
    }
   ],
   "source": [
    "arr_four=np.empty((0,),dtype=int)\n",
    "for i in range(20):\n",
    "    arr_four=np.append(arr_four,rn.randint(1,10))\n",
    "arr_four"
   ]
  },
  {
   "cell_type": "code",
   "execution_count": 115,
   "id": "b88f9452",
   "metadata": {},
   "outputs": [
    {
     "data": {
      "text/plain": [
       "10"
      ]
     },
     "execution_count": 115,
     "metadata": {},
     "output_type": "execute_result"
    }
   ],
   "source": [
    "def max_array(temp):\n",
    "    return temp.max()\n",
    "max_array(arr_four)"
   ]
  },
  {
   "cell_type": "code",
   "execution_count": 116,
   "id": "a05304e5",
   "metadata": {},
   "outputs": [
    {
     "name": "stdout",
     "output_type": "stream",
     "text": [
      "[ 4  4  7 10  3  9  4  2  6  6 10 10  1  2  9  6  4  4  6  5]\n",
      "[ 4  4  7 10  3  9  4  2  6  6 10 10  1  2  9  6  4  4  6  5]\n"
     ]
    }
   ],
   "source": [
    "def rever_arr(temp):\n",
    "    len_arr=len(temp)\n",
    "    reverse_arr=np.empty((0,),dtype=int)\n",
    "    for i in range(len_arr):\n",
    "        len_arr=len_arr-1\n",
    "        reverse_arr=np.append(reverse_arr,temp[len_arr])\n",
    "    return reverse_arr\n",
    "print(rever_arr(arr_four))\n",
    "print(arr_four[::-1])"
   ]
  },
  {
   "cell_type": "code",
   "execution_count": 129,
   "id": "4aaaf86e",
   "metadata": {},
   "outputs": [
    {
     "name": "stdout",
     "output_type": "stream",
     "text": [
      "[ 1  5  6  4  9  2 10  3  7]\n",
      "[ 1  2  3  4  5  6  7  9 10]\n"
     ]
    }
   ],
   "source": [
    "def remove_duplicates(temp):\n",
    "    len_arr=len(temp)\n",
    "    rmv_dup=np.empty([],dtype=int)\n",
    "    for i in range(len_arr):\n",
    "        if(temp[i] not in rmv_dup):\n",
    "            rmv_dup=np.append(rmv_dup,temp[i])\n",
    "    return rmv_dup\n",
    "print(remove_duplicates(arr_four))\n",
    "rmv_dup=np.unique(arr_four)\n",
    "print(rmv_dup)"
   ]
  },
  {
   "cell_type": "code",
   "execution_count": 134,
   "id": "e4b04d93",
   "metadata": {},
   "outputs": [
    {
     "name": "stdout",
     "output_type": "stream",
     "text": [
      "False\n"
     ]
    }
   ],
   "source": [
    "print(11 in arr_four)"
   ]
  },
  {
   "cell_type": "code",
   "execution_count": 146,
   "id": "a9ce2b04",
   "metadata": {},
   "outputs": [
    {
     "data": {
      "text/plain": [
       "array([ 5, 10, 15, 20, 25, 30, 35, 45, 50])"
      ]
     },
     "execution_count": 146,
     "metadata": {},
     "output_type": "execute_result"
    }
   ],
   "source": [
    "arr_five=rmv_dup\n",
    "arr_five\n",
    "def multiply_arr(num,arr):\n",
    "    multiply_arr=np.empty((0,),dtype=int)\n",
    "    for i in range(len(arr)):\n",
    "        multiply_arr=np.append(multiply_arr,num*arr[i])\n",
    "    return multiply_arr\n",
    "multiply_arr(5,arr_five)"
   ]
  },
  {
   "cell_type": "code",
   "execution_count": 150,
   "id": "2fb62e36",
   "metadata": {},
   "outputs": [
    {
     "name": "stdout",
     "output_type": "stream",
     "text": [
      "235\n"
     ]
    }
   ],
   "source": [
    "print(multiply_arr(5,arr_five).sum())"
   ]
  },
  {
   "cell_type": "code",
   "execution_count": 163,
   "id": "8cef61d4",
   "metadata": {},
   "outputs": [
    {
     "name": "stdout",
     "output_type": "stream",
     "text": [
      "26.11\n",
      "26.11\n"
     ]
    }
   ],
   "source": [
    "def avg(arr):\n",
    "    len_arr=len(arr)\n",
    "    temp=0\n",
    "    for i in range(len_arr):\n",
    "        temp=temp+arr[i]\n",
    "    return temp/len_arr\n",
    "print(round(avg(multiply_arr(5,arr_five)),2))\n",
    "print(round(multiply_arr(5,arr_five).mean(),2))"
   ]
  },
  {
   "cell_type": "code",
   "execution_count": 177,
   "id": "425d1ae9",
   "metadata": {},
   "outputs": [
    {
     "name": "stdout",
     "output_type": "stream",
     "text": [
      "8\n",
      "8\n"
     ]
    }
   ],
   "source": [
    "def search_index(num,temp):\n",
    "    for i in range(len(temp)):\n",
    "        if num ==temp[i]:\n",
    "            return i\n",
    "    return \"Not in array\"\n",
    "print(search_index(arr_four.max(),arr_four))\n",
    "print(np.argmax(arr_four))"
   ]
  },
  {
   "cell_type": "code",
   "execution_count": 208,
   "id": "0306ce5d",
   "metadata": {},
   "outputs": [],
   "source": [
    "arr_six=remove_duplicates(arr_four)\n",
    "arr_six.sort()\n",
    "arr_six=arr_six[::-1]"
   ]
  },
  {
   "cell_type": "code",
   "execution_count": 209,
   "id": "57c61eb3",
   "metadata": {},
   "outputs": [
    {
     "name": "stdout",
     "output_type": "stream",
     "text": [
      "[10  9  7  6  5  4  3  2  1  1  2  3  4  5  6  7  9 10]\n"
     ]
    }
   ],
   "source": [
    "concat_array=np.append(arr_six,arr_five)\n",
    "print(concat_array)"
   ]
  }
 ],
 "metadata": {
  "kernelspec": {
   "display_name": "Python 3 (ipykernel)",
   "language": "python",
   "name": "python3"
  },
  "language_info": {
   "codemirror_mode": {
    "name": "ipython",
    "version": 3
   },
   "file_extension": ".py",
   "mimetype": "text/x-python",
   "name": "python",
   "nbconvert_exporter": "python",
   "pygments_lexer": "ipython3",
   "version": "3.11.5"
  }
 },
 "nbformat": 4,
 "nbformat_minor": 5
}
